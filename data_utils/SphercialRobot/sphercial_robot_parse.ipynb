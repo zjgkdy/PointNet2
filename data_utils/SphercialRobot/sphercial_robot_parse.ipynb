{
 "cells": [
  {
   "cell_type": "code",
   "execution_count": 13,
   "id": "b7a006de",
   "metadata": {},
   "outputs": [],
   "source": [
    "import os\n",
    "import json\n",
    "import torch\n",
    "import argparse\n",
    "import open3d as o3d\n",
    "import numpy as np\n",
    "from tqdm import tqdm\n",
    "from torch.utils.data import Dataset\n",
    "from torch.utils.data import DataLoader\n",
    "\n",
    "\n",
    "cls_names = {\"Pedestrian\", \"RoadBarrel\"}\n",
    "\n",
    "\n",
    "class ModelNetDataLoader(Dataset):\n",
    "    def __init__(self, root, bag):\n",
    "        super().__init__()\n",
    "        self.root = root\n",
    "        self.bag = bag\n",
    "        self.bag_path = os.path.join(self.root, self.bag)\n",
    "        self.jsons_path = os.path.join(self.bag_path, \"label\")\n",
    "        self.pcds_path = os.path.join(self.bag_path, \"lidar\")\n",
    "\n",
    "        # 点云和json文件目录检验\n",
    "        pcd_list = sorted(os.listdir(self.pcds_path))\n",
    "        json_list = sorted(os.listdir(self.jsons_path))\n",
    "        if (len(pcd_list) != len(json_list)):\n",
    "            for i in range(len(pcd_list)):\n",
    "                pcd = pcd_list[i].rsplit('.', maxsplit=1)[0]\n",
    "                jsn = json_list[i].rsplit('.', maxsplit=1)[0]\n",
    "                assert pcd == jsn, (\"%s: PCD files and JSON files do not match.\" % bag)\n",
    "\n",
    "        # 加载点云和json文件目录\n",
    "        self.dataset = [(os.path.join(self.pcds_path, pcd_list[i]), os.path.join(self.jsons_path, json_list[i])) for i in range(len(pcd_list))]\n",
    "        print('The size of %s dataset is %d' % (self.bag, len(self.dataset)))\n",
    "\n",
    "    def __len__(self):\n",
    "        return len(self.dataset)\n",
    "\n",
    "    def __getitem__(self, index):\n",
    "        pcd_file = self.dataset[index][0]\n",
    "        json_file = self.dataset[index][1]\n",
    "        pcd = o3d.io.read_point_cloud(pcd_file)\n",
    "        pnts = torch.tensor(np.asarray(pcd.points), dtype=torch.float32)\n",
    "        objs = self.load_json(json_file)\n",
    "        return pnts, objs\n",
    "\n",
    "    def load_json(self, json_file):\n",
    "        \"\"\" 加载json文件\n",
    "\n",
    "        Args:\n",
    "            json_file (_type_): json文件\n",
    "        \"\"\"\n",
    "        with open(json_file, 'r') as f:\n",
    "            content = f.read().strip()\n",
    "        json_msg = json.loads(content)\n",
    "\n",
    "        objs = []\n",
    "        for obj in json_msg:\n",
    "            label = obj[\"obj_type\"]\n",
    "            position = obj[\"psr\"][\"position\"]\n",
    "            scale = obj[\"psr\"][\"scale\"]\n",
    "            objs.append([label,\n",
    "                         torch.tensor([position[\"x\"], position[\"y\"], position[\"z\"]], dtype=torch.float32),\n",
    "                         torch.tensor([scale[\"x\"], scale[\"y\"], scale[\"z\"]], dtype=torch.float32)])\n",
    "            return objs\n",
    "\n",
    "\n",
    "def parse_args():\n",
    "    parser = argparse.ArgumentParser('SphercialRobotParser')\n",
    "    parser.add_argument('--data_path', default=\"/home/luoteng/PointNet2/data/sphercial_robot_data/\", type=str, required=False, help='Experimental dataset root')\n",
    "    return parser.parse_args()\n",
    "\n",
    "\n"
   ]
  },
  {
   "cell_type": "code",
   "execution_count": 36,
   "id": "2d979498",
   "metadata": {},
   "outputs": [],
   "source": [
    "data_root = \"/home/luoteng/PointNet2/data/sphercial_robot_data/\"\n",
    "bags = os.listdir(data_root)"
   ]
  },
  {
   "cell_type": "code",
   "execution_count": 37,
   "id": "7253ab9f",
   "metadata": {},
   "outputs": [
    {
     "name": "stdout",
     "output_type": "stream",
     "text": [
      "The size of rotun_0601_p0 dataset is 299\n"
     ]
    }
   ],
   "source": [
    "bag = bags[0]\n",
    "dataset = ModelNetDataLoader(data_root, bag)\n",
    "data_loader = DataLoader(dataset, batch_size=1, shuffle=False, num_workers=10)"
   ]
  },
  {
   "cell_type": "code",
   "execution_count": 38,
   "id": "b4024ce0",
   "metadata": {},
   "outputs": [],
   "source": [
    "pc, objs = dataset[0]\n",
    "obj = objs[0]"
   ]
  },
  {
   "cell_type": "code",
   "execution_count": 39,
   "id": "21684d16",
   "metadata": {},
   "outputs": [
    {
     "data": {
      "text/plain": [
       "(tensor([[ 6.0610,  1.5842, -0.1278],\n",
       "         [ 5.9847,  1.4064, -0.1320],\n",
       "         [ 5.9432,  1.6804, -0.1332],\n",
       "         ...,\n",
       "         [-8.8913, -3.8161, -0.6051],\n",
       "         [-7.9448, -3.0163, -0.6528],\n",
       "         [-8.9624, -3.4133, -0.6172]]),\n",
       " ['Pedestrian',\n",
       "  tensor([-2.8255, -4.2680,  0.2692]),\n",
       "  tensor([0.5679, 0.4433, 1.7275])])"
      ]
     },
     "execution_count": 39,
     "metadata": {},
     "output_type": "execute_result"
    }
   ],
   "source": [
    "pc, obj"
   ]
  },
  {
   "cell_type": "code",
   "execution_count": 40,
   "id": "9330c21c",
   "metadata": {},
   "outputs": [
    {
     "data": {
      "text/plain": [
       "(tensor([-2.8255, -4.2680,  0.2692]), tensor([0.5679, 0.4433, 1.7275]))"
      ]
     },
     "execution_count": 40,
     "metadata": {},
     "output_type": "execute_result"
    }
   ],
   "source": [
    "label = obj[0]\n",
    "center = obj[1]\n",
    "scale = obj[2]\n",
    "center, scale"
   ]
  },
  {
   "cell_type": "code",
   "execution_count": 41,
   "id": "c7558f94",
   "metadata": {},
   "outputs": [],
   "source": [
    "max_pt = center + scale / 2 \n",
    "min_pt = center - scale / 2 "
   ]
  },
  {
   "cell_type": "code",
   "execution_count": 72,
   "id": "385ec9a2",
   "metadata": {},
   "outputs": [],
   "source": [
    "result= (min_pt<pc)  & (pc<max_pt)\n",
    "mask = torch.all(result, dim=1)\n",
    "obj_pc = pc[mask]"
   ]
  },
  {
   "cell_type": "code",
   "execution_count": null,
   "id": "003d0468",
   "metadata": {},
   "outputs": [],
   "source": []
  }
 ],
 "metadata": {
  "kernelspec": {
   "display_name": "Python 3 (ipykernel)",
   "language": "python",
   "name": "python3"
  },
  "language_info": {
   "codemirror_mode": {
    "name": "ipython",
    "version": 3
   },
   "file_extension": ".py",
   "mimetype": "text/x-python",
   "name": "python",
   "nbconvert_exporter": "python",
   "pygments_lexer": "ipython3",
   "version": "3.8.20"
  }
 },
 "nbformat": 4,
 "nbformat_minor": 5
}
